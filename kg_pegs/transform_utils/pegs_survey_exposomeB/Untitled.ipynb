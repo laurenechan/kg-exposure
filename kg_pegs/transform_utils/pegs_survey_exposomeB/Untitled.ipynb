{
 "cells": [
  {
   "cell_type": "code",
   "execution_count": 12,
   "id": "12b2918c",
   "metadata": {},
   "outputs": [
    {
     "data": {
      "text/plain": [
       "134"
      ]
     },
     "execution_count": 12,
     "metadata": {},
     "output_type": "execute_result"
    }
   ],
   "source": [
    "import pandas as pd\n",
    "import yaml\n",
    "import csv\n",
    "from collections import OrderedDict, defaultdict\n",
    "from pprint import pprint\n",
    "\n",
    "colnames=['key', 'value']\n",
    "df = pd.read_csv('translation_map_expB.csv', names=colnames, header=None)\n",
    "keys = df['key'].to_list()\n",
    "\n",
    "# len(keys)\n",
    "\n",
    "values = df['value'].to_list()\n",
    "\n",
    "len(values)\n",
    "\n",
    "keyvalues = dict(zip(keys,values))\n",
    "len(keyvalues)\n",
    "\n",
    "\n",
    "# with open(\"translation_map_expB.yaml\", \"w\") as file:\n",
    "#       yaml.dump(keyvalues, file)\n",
    "\n",
    "        \n",
    "#         #second option, iteration\n",
    "# keyvaluestest = dict()        \n",
    "# for row in df.itertuples():\n",
    "#     keyvaluestest[row.key] = row.value\n",
    "# # pprint(keyvaluestest)\n",
    "\n",
    "# for key in keys:\n",
    "#     print(f\" - '{key}'\")"
   ]
  },
  {
   "cell_type": "code",
   "execution_count": null,
   "id": "62348a7d",
   "metadata": {},
   "outputs": [],
   "source": []
  },
  {
   "cell_type": "code",
   "execution_count": null,
   "id": "7529de45",
   "metadata": {},
   "outputs": [],
   "source": []
  }
 ],
 "metadata": {
  "kernelspec": {
   "display_name": "Python 3 (ipykernel)",
   "language": "python",
   "name": "python3"
  },
  "language_info": {
   "codemirror_mode": {
    "name": "ipython",
    "version": 3
   },
   "file_extension": ".py",
   "mimetype": "text/x-python",
   "name": "python",
   "nbconvert_exporter": "python",
   "pygments_lexer": "ipython3",
   "version": "3.9.10"
  }
 },
 "nbformat": 4,
 "nbformat_minor": 5
}
