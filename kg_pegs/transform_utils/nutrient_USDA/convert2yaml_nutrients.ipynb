{
 "cells": [
  {
   "cell_type": "code",
   "execution_count": 31,
   "id": "bd5f65d6",
   "metadata": {},
   "outputs": [
    {
     "name": "stdout",
     "output_type": "stream",
     "text": [
      "[1105073, 1105314, 325871, 335240, 321900, 790508, 789828, 328841, 748967, 333374, 334194, 323121, 746952, 323505, 327198, 746772, 746776, 746778, 746782, 748608, 790577, 1104962, 790646, 327501, 325430, 324860, 746779, 746780, 325992, 327699, 334247]\n",
      "['FOODON:00003345', 'FOODON:03311513', 'FOODON:03301055', 'FOODON:03301119', 'FOODON:03301713', 'FOODON:03302643', 'FOODON:00001257', 'FOODON:03303720', 'FOODON:03316061', 'FOODON:03308024', 'FOODON:03309003', 'FOODON:00001009', 'FOODON:03311694', 'FOODON:03304859', 'FOODON:03302805', 'FOODON:03311236', 'FOODON:03311235', 'FOODON:00002815', 'FOODON:03310780', 'FOODON:00002808', 'FOODON:00003515', 'FOODON:00003349', 'FOODON:03311276', 'FOODON:00002511', 'FOODON:03301719', 'FOODON:03306903', 'FOODON:00002958', 'FOODON:03311131', 'FOODON:00003297', 'FOODON:03301722', 'FOODON:03301073']\n"
     ]
    }
   ],
   "source": [
    "import pandas as pd\n",
    "import yaml\n",
    "import csv\n",
    "from collections import OrderedDict, defaultdict\n",
    "from pprint import pprint\n",
    "\n",
    "colnames=['key', 'value']\n",
    "df = pd.read_csv('foodon2fdc_id.csv', names=colnames, header=None)\n",
    "keys = df['key'].to_list()\n",
    "\n",
    "len(keys)\n",
    "print(keys)\n",
    "\n",
    "values = df['value'].to_list()\n",
    "\n",
    "len(values)\n",
    "print(values)\n",
    "\n",
    "keyvalues = dict(zip(keys,values))\n",
    "len(keyvalues)\n",
    "\n",
    "\n",
    "with open(\"translation_map_foodon2fdc_id.yaml\", \"w\") as file:\n",
    "      yaml.dump(keyvalues, file)"
   ]
  },
  {
   "cell_type": "code",
   "execution_count": null,
   "id": "5e373a4d",
   "metadata": {},
   "outputs": [],
   "source": []
  },
  {
   "cell_type": "code",
   "execution_count": null,
   "id": "390a293a",
   "metadata": {},
   "outputs": [],
   "source": []
  }
 ],
 "metadata": {
  "kernelspec": {
   "display_name": "Python 3 (ipykernel)",
   "language": "python",
   "name": "python3"
  },
  "language_info": {
   "codemirror_mode": {
    "name": "ipython",
    "version": 3
   },
   "file_extension": ".py",
   "mimetype": "text/x-python",
   "name": "python",
   "nbconvert_exporter": "python",
   "pygments_lexer": "ipython3",
   "version": "3.9.10"
  }
 },
 "nbformat": 4,
 "nbformat_minor": 5
}
