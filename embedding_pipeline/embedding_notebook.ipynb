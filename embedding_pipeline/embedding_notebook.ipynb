{
 "cells": [
  {
   "cell_type": "code",
   "execution_count": null,
   "id": "d7b10d76",
   "metadata": {},
   "outputs": [],
   "source": [
    "# !python -m pip uninstall matplotlib\n",
    "# !pip install matplotlib==3.1.3 -U\n",
    "# !pip install -qU grape"
   ]
  },
  {
   "cell_type": "code",
   "execution_count": null,
   "id": "1456ce9e",
   "metadata": {},
   "outputs": [],
   "source": [
    "!tar -xvzf ../../data/merged/merged-kg.tar.gz\n",
    "merged_node_filename='merged-kg_nodes.tsv'\n",
    "merged_edge_filename='merged-kg_edges.tsv'"
   ]
  },
  {
   "cell_type": "code",
   "execution_count": null,
   "id": "38823bab",
   "metadata": {},
   "outputs": [],
   "source": []
  },
  {
   "cell_type": "code",
   "execution_count": null,
   "id": "1c63ba2a",
   "metadata": {},
   "outputs": [],
   "source": [
    "# this is a very high degree node that isn't meaningful for node embeddings\n",
    "# Definition: A term that is metadata complete, has been reviewed, and problems have been identified that require discussion before release. Such a term requires editor note(s) to identify the outstanding issue\n",
    "!grep -v IAO:0000428 merged-kg_edges.tsv > tmp\n",
    "!mv tmp merged-kg_edges.tsv"
   ]
  },
  {
   "cell_type": "code",
   "execution_count": null,
   "id": "69777d6d",
   "metadata": {},
   "outputs": [],
   "source": [
    "from grape import Graph"
   ]
  },
  {
   "cell_type": "code",
   "execution_count": null,
   "id": "c4eee8c5",
   "metadata": {},
   "outputs": [],
   "source": [
    "g = Graph.from_csv(\n",
    "    node_path=merged_node_filename,\n",
    "    edge_path=merged_edge_filename,\n",
    "    node_list_separator=\"\\t\",\n",
    "    edge_list_separator=\"\\t\",\n",
    "    node_list_header=True,  # Always true for KG-Hub KGs\n",
    "    edge_list_header=True,  # Always true for KG-Hub KGs\n",
    "    nodes_column='id',  # Always true for KG-Hub KGs\n",
    "    node_list_node_types_column='category',  # Always true for KG-Hub KGs\n",
    "    sources_column='subject',  # Always true for KG-Hub KGs\n",
    "    destinations_column='object',  # Always true for KG-Hub KGs\n",
    "    directed=False,\n",
    "    name=\"kg-exposure\",\n",
    "    verbose=True\n",
    ")\n",
    "g"
   ]
  },
  {
   "cell_type": "code",
   "execution_count": null,
   "id": "e42500d1",
   "metadata": {},
   "outputs": [],
   "source": [
    "# select largest components\n",
    "g = g.remove_disconnected_nodes()\n",
    "g = g.remove_components(top_k_components=1)\n",
    "#connected component , pick the biggest connected component, the space where there is a large connection, needs the main connected component, won't be \n",
    "#able to look at stuff that is beyond the main component since it doesn't have that much info "
   ]
  },
  {
   "cell_type": "code",
   "execution_count": null,
   "id": "684b281b",
   "metadata": {},
   "outputs": [],
   "source": [
    "from grape.embedders import FirstOrderLINEEnsmallen\n",
    "embedding = FirstOrderLINEEnsmallen().fit_transform(g)"
   ]
  },
  {
   "cell_type": "code",
   "execution_count": null,
   "id": "6e733498",
   "metadata": {},
   "outputs": [],
   "source": [
    "from grape import GraphVisualizer\n",
    "visualizer = GraphVisualizer(g)"
   ]
  },
  {
   "cell_type": "code",
   "execution_count": null,
   "id": "4d0d5eb7",
   "metadata": {},
   "outputs": [],
   "source": [
    "# You can either provide the model name\n",
    "#visualizer.fit_nodes(\"First-order LINE\", library_name=\"Ensmallen\")\n",
    "# Or provide a precomputed embedding\n",
    "#\n",
    "# visualizer.fit_nodes(numpy_array_with_embedding)\n",
    "# visualizer.fit_nodes(pandas_dataframe_with_embedding)\n",
    "#\n",
    "# or alternatively provide the model to be used:\n",
    "#\n",
    "# from grape.embedders import FirstOrderLINEEnsmallen\n",
    "# visualizer.fit_nodes(FirstOrderLINEEnsmallen())\n",
    "#\n",
    "# In this tutorial, we use the embedding we have just computed above:\n",
    "\n",
    "visualizer.fit_nodes(embedding)\n",
    "\n",
    "# And now we can visualize the node types:\n",
    "visualizer.plot_node_types()"
   ]
  },
  {
   "cell_type": "code",
   "execution_count": null,
   "id": "4e7d00d6",
   "metadata": {},
   "outputs": [],
   "source": [
    "visualizer.plot_node_degree_distribution()\n",
    "\n",
    "# lots of nodes with very few neighbors"
   ]
  },
  {
   "cell_type": "code",
   "execution_count": null,
   "id": "1afa2c23",
   "metadata": {},
   "outputs": [],
   "source": [
    "visualizer.fit_and_plot_all(embedding)"
   ]
  },
  {
   "cell_type": "code",
   "execution_count": null,
   "id": "68aa916b",
   "metadata": {},
   "outputs": [],
   "source": [
    "from grape.edge_prediction import RandomForestEdgePrediction\n",
    "#from grape.embedders import FirstOrderLINEEnsmallen\n",
    "#from grape.datasets.string import HomoSapiens"
   ]
  },
  {
   "cell_type": "code",
   "execution_count": null,
   "id": "4e541953",
   "metadata": {},
   "outputs": [],
   "source": [
    "train, test = g.connected_holdout(train_size=0.7)"
   ]
  },
  {
   "cell_type": "code",
   "execution_count": null,
   "id": "fc245b4b",
   "metadata": {},
   "outputs": [],
   "source": [
    "%%time\n",
    "embedding = FirstOrderLINEEnsmallen().fit_transform(train)"
   ]
  },
  {
   "cell_type": "code",
   "execution_count": null,
   "id": "ad8b1b97",
   "metadata": {},
   "outputs": [],
   "source": [
    "%%time\n",
    "model = RandomForestEdgePrediction()\n",
    "model.fit(\n",
    "    graph=train, \n",
    "    node_features=embedding\n",
    ")"
   ]
  },
  {
   "cell_type": "code",
   "execution_count": null,
   "id": "8e908714",
   "metadata": {},
   "outputs": [],
   "source": [
    "[\n",
    "    method_name\n",
    "    for method_name in dir(model)\n",
    "    if method_name.startswith(\"predict\")\n",
    "]"
   ]
  },
  {
   "cell_type": "code",
   "execution_count": null,
   "id": "9e0ae11b",
   "metadata": {},
   "outputs": [],
   "source": [
    "%%time\n",
    "# A perfect model should correctly predict the existance\n",
    "# of all of these edges.\n",
    "model.predict_proba(\n",
    "    graph=test,\n",
    "    node_features=embedding,\n",
    "    return_predictions_dataframe=True\n",
    ")"
   ]
  },
  {
   "cell_type": "code",
   "execution_count": null,
   "id": "1bf02b63",
   "metadata": {},
   "outputs": [],
   "source": [
    "%%time\n",
    "# A perfect model should correctly predict the non-existance\n",
    "# of all of these edges.\n",
    "model.predict_proba(\n",
    "    graph=graph.sample_negative_graph(number_of_negative_samples=test.get_number_of_edges()),\n",
    "    node_features=embedding,\n",
    "    return_predictions_dataframe=True\n",
    ")"
   ]
  }
 ],
 "metadata": {
  "kernelspec": {
   "display_name": "Python 3 (ipykernel)",
   "language": "python",
   "name": "python3"
  },
  "language_info": {
   "codemirror_mode": {
    "name": "ipython",
    "version": 3
   },
   "file_extension": ".py",
   "mimetype": "text/x-python",
   "name": "python",
   "nbconvert_exporter": "python",
   "pygments_lexer": "ipython3",
   "version": "3.9.10"
  }
 },
 "nbformat": 4,
 "nbformat_minor": 5
}
